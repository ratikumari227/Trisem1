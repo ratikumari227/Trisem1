{
  "nbformat": 4,
  "nbformat_minor": 0,
  "metadata": {
    "colab": {
      "name": "Assignment_3 M20CS012.ipynb",
      "provenance": []
    },
    "kernelspec": {
      "name": "python3",
      "display_name": "Python 3"
    }
  },
  "cells": [
    {
      "cell_type": "markdown",
      "metadata": {
        "id": "A3WOm1t71TKZ"
      },
      "source": [
        "# Importing libraries and dataset"
      ]
    },
    {
      "cell_type": "code",
      "metadata": {
        "id": "nBMYpVoKu9r3"
      },
      "source": [
        "#import libraries\n",
        "import numpy as np\n",
        "import matplotlib.pyplot as plt\n",
        "import pandas as pd\n",
        "dataset = pd.read_excel('cardio_train.xlsx')[:500]\n",
        "# select = ['age']\n",
        "select = ['age','gender','height','weight']\n",
        "select1 = ['age','weight']\n",
        "X = dataset[select1]\n",
        "y = dataset.iloc[:, -1].values\n",
        "age=dataset[['age']]\n",
        "weight=dataset[['weight']]"
      ],
      "execution_count": null,
      "outputs": []
    },
    {
      "cell_type": "code",
      "metadata": {
        "id": "VTOpF5WkxqEr",
        "colab": {
          "base_uri": "https://localhost:8080/",
          "height": 204
        },
        "outputId": "66ed4e2b-c76f-421e-9e1a-0f39dd53c5bd"
      },
      "source": [
        "dataset.head()\n"
      ],
      "execution_count": null,
      "outputs": [
        {
          "output_type": "execute_result",
          "data": {
            "text/html": [
              "<div>\n",
              "<style scoped>\n",
              "    .dataframe tbody tr th:only-of-type {\n",
              "        vertical-align: middle;\n",
              "    }\n",
              "\n",
              "    .dataframe tbody tr th {\n",
              "        vertical-align: top;\n",
              "    }\n",
              "\n",
              "    .dataframe thead th {\n",
              "        text-align: right;\n",
              "    }\n",
              "</style>\n",
              "<table border=\"1\" class=\"dataframe\">\n",
              "  <thead>\n",
              "    <tr style=\"text-align: right;\">\n",
              "      <th></th>\n",
              "      <th>id</th>\n",
              "      <th>age</th>\n",
              "      <th>gender</th>\n",
              "      <th>height</th>\n",
              "      <th>weight</th>\n",
              "      <th>ap_hi</th>\n",
              "      <th>ap_lo</th>\n",
              "      <th>cholesterol</th>\n",
              "      <th>gluc</th>\n",
              "      <th>smoke</th>\n",
              "      <th>alco</th>\n",
              "      <th>active</th>\n",
              "      <th>cardio</th>\n",
              "    </tr>\n",
              "  </thead>\n",
              "  <tbody>\n",
              "    <tr>\n",
              "      <th>0</th>\n",
              "      <td>0</td>\n",
              "      <td>18393</td>\n",
              "      <td>2</td>\n",
              "      <td>168</td>\n",
              "      <td>62.0</td>\n",
              "      <td>110</td>\n",
              "      <td>80</td>\n",
              "      <td>1</td>\n",
              "      <td>1</td>\n",
              "      <td>0</td>\n",
              "      <td>0</td>\n",
              "      <td>1</td>\n",
              "      <td>0</td>\n",
              "    </tr>\n",
              "    <tr>\n",
              "      <th>1</th>\n",
              "      <td>1</td>\n",
              "      <td>20228</td>\n",
              "      <td>1</td>\n",
              "      <td>156</td>\n",
              "      <td>85.0</td>\n",
              "      <td>140</td>\n",
              "      <td>90</td>\n",
              "      <td>3</td>\n",
              "      <td>1</td>\n",
              "      <td>0</td>\n",
              "      <td>0</td>\n",
              "      <td>1</td>\n",
              "      <td>1</td>\n",
              "    </tr>\n",
              "    <tr>\n",
              "      <th>2</th>\n",
              "      <td>2</td>\n",
              "      <td>18857</td>\n",
              "      <td>1</td>\n",
              "      <td>165</td>\n",
              "      <td>64.0</td>\n",
              "      <td>130</td>\n",
              "      <td>70</td>\n",
              "      <td>3</td>\n",
              "      <td>1</td>\n",
              "      <td>0</td>\n",
              "      <td>0</td>\n",
              "      <td>0</td>\n",
              "      <td>1</td>\n",
              "    </tr>\n",
              "    <tr>\n",
              "      <th>3</th>\n",
              "      <td>3</td>\n",
              "      <td>17623</td>\n",
              "      <td>2</td>\n",
              "      <td>169</td>\n",
              "      <td>82.0</td>\n",
              "      <td>150</td>\n",
              "      <td>100</td>\n",
              "      <td>1</td>\n",
              "      <td>1</td>\n",
              "      <td>0</td>\n",
              "      <td>0</td>\n",
              "      <td>1</td>\n",
              "      <td>1</td>\n",
              "    </tr>\n",
              "    <tr>\n",
              "      <th>4</th>\n",
              "      <td>4</td>\n",
              "      <td>17474</td>\n",
              "      <td>1</td>\n",
              "      <td>156</td>\n",
              "      <td>56.0</td>\n",
              "      <td>100</td>\n",
              "      <td>60</td>\n",
              "      <td>1</td>\n",
              "      <td>1</td>\n",
              "      <td>0</td>\n",
              "      <td>0</td>\n",
              "      <td>0</td>\n",
              "      <td>0</td>\n",
              "    </tr>\n",
              "  </tbody>\n",
              "</table>\n",
              "</div>"
            ],
            "text/plain": [
              "   id    age  gender  height  weight  ...  gluc  smoke  alco  active  cardio\n",
              "0   0  18393       2     168    62.0  ...     1      0     0       1       0\n",
              "1   1  20228       1     156    85.0  ...     1      0     0       1       1\n",
              "2   2  18857       1     165    64.0  ...     1      0     0       0       1\n",
              "3   3  17623       2     169    82.0  ...     1      0     0       1       1\n",
              "4   4  17474       1     156    56.0  ...     1      0     0       0       0\n",
              "\n",
              "[5 rows x 13 columns]"
            ]
          },
          "metadata": {
            "tags": []
          },
          "execution_count": 171
        }
      ]
    },
    {
      "cell_type": "code",
      "metadata": {
        "id": "99cwXBZV2dDU",
        "colab": {
          "base_uri": "https://localhost:8080/",
          "height": 295
        },
        "outputId": "22595b77-881e-4c19-ae26-6809c39e4d27"
      },
      "source": [
        "plt.scatter(age, weight, color = 'blue')\n",
        "plt.title('Age vs Weight')\n",
        "plt.xlabel('Age')\n",
        "plt.ylabel('Weight')\n",
        "plt.show()"
      ],
      "execution_count": null,
      "outputs": [
        {
          "output_type": "display_data",
          "data": {
            "image/png": "[encoded data removed]",
            "text/plain": [
              "<Figure size 432x288 with 1 Axes>"
            ]
          },
          "metadata": {
            "tags": [],
            "needs_background": "light"
          }
        }
      ]
    },
    {
      "cell_type": "markdown",
      "metadata": {
        "id": "yNgmyG3314Z1"
      },
      "source": [
        "# Split data into training and test set"
      ]
    },
    {
      "cell_type": "code",
      "metadata": {
        "id": "-W-2wzXzvJh5"
      },
      "source": [
        "from sklearn.model_selection import train_test_split\n",
        "X_train, X_test, y_train, y_test = train_test_split(X, y, test_size = 0.20, random_state = 0)"
      ],
      "execution_count": null,
      "outputs": []
    },
    {
      "cell_type": "markdown",
      "metadata": {
        "id": "iz4q8RQHlWzM"
      },
      "source": [
        "# Half Space (Perceptron)"
      ]
    },
    {
      "cell_type": "code",
      "metadata": {
        "id": "N0rCsYvWOVAV"
      },
      "source": [
        "from sklearn.preprocessing import StandardScaler\n",
        "sc = StandardScaler()\n",
        "X_train = sc.fit_transform(X_train)\n",
        "X_test = sc.transform(X_test)"
      ],
      "execution_count": null,
      "outputs": []
    },
    {
      "cell_type": "code",
      "metadata": {
        "id": "8dMbwIyWe9AN",
        "colab": {
          "base_uri": "https://localhost:8080/",
          "height": 85
        },
        "outputId": "afb545ea-3352-4296-d54f-68663ad2de5d"
      },
      "source": [
        "from sklearn.linear_model import Perceptron\n",
        "classifier = Perceptron(tol=1e-3, random_state=0)\n",
        "classifier.fit(X_train, y_train)"
      ],
      "execution_count": null,
      "outputs": [
        {
          "output_type": "execute_result",
          "data": {
            "text/plain": [
              "Perceptron(alpha=0.0001, class_weight=None, early_stopping=False, eta0=1.0,\n",
              "           fit_intercept=True, max_iter=1000, n_iter_no_change=5, n_jobs=None,\n",
              "           penalty=None, random_state=0, shuffle=True, tol=0.001,\n",
              "           validation_fraction=0.1, verbose=0, warm_start=False)"
            ]
          },
          "metadata": {
            "tags": []
          },
          "execution_count": 175
        }
      ]
    },
    {
      "cell_type": "code",
      "metadata": {
        "id": "vy8IX4g7kmGb",
        "colab": {
          "base_uri": "https://localhost:8080/",
          "height": 34
        },
        "outputId": "68a81d56-3180-4bf5-88bc-003570e2c3db"
      },
      "source": [
        "print(classifier.predict(sc.transform([[20228,85.0]])))"
      ],
      "execution_count": null,
      "outputs": [
        {
          "output_type": "stream",
          "text": [
            "[1]\n"
          ],
          "name": "stdout"
        }
      ]
    },
    {
      "cell_type": "code",
      "metadata": {
        "id": "kYGBixl9k54b",
        "colab": {
          "base_uri": "https://localhost:8080/",
          "height": 1000
        },
        "outputId": "075200a5-3f8e-4d04-c9dc-97c8debbab64"
      },
      "source": [
        "y_pred = classifier.predict(X_test)\n",
        "print(np.concatenate((y_pred.reshape(len(y_pred),1), y_test.reshape(len(y_test),1)),1))"
      ],
      "execution_count": null,
      "outputs": [
        {
          "output_type": "stream",
          "text": [
            "[[0 0]\n",
            " [0 0]\n",
            " [0 1]\n",
            " [0 1]\n",
            " [1 1]\n",
            " [0 1]\n",
            " [0 0]\n",
            " [1 1]\n",
            " [0 1]\n",
            " [0 1]\n",
            " [1 1]\n",
            " [0 1]\n",
            " [0 0]\n",
            " [1 1]\n",
            " [0 1]\n",
            " [1 1]\n",
            " [0 1]\n",
            " [1 1]\n",
            " [0 1]\n",
            " [0 0]\n",
            " [0 1]\n",
            " [0 1]\n",
            " [0 0]\n",
            " [1 1]\n",
            " [0 1]\n",
            " [0 1]\n",
            " [1 0]\n",
            " [0 1]\n",
            " [1 0]\n",
            " [0 1]\n",
            " [1 0]\n",
            " [0 0]\n",
            " [1 1]\n",
            " [1 0]\n",
            " [0 0]\n",
            " [0 0]\n",
            " [0 0]\n",
            " [0 0]\n",
            " [0 0]\n",
            " [1 0]\n",
            " [1 0]\n",
            " [0 1]\n",
            " [0 1]\n",
            " [0 1]\n",
            " [0 1]\n",
            " [0 1]\n",
            " [1 0]\n",
            " [0 0]\n",
            " [0 1]\n",
            " [0 0]\n",
            " [1 1]\n",
            " [1 1]\n",
            " [0 1]\n",
            " [0 1]\n",
            " [0 0]\n",
            " [0 0]\n",
            " [1 1]\n",
            " [0 0]\n",
            " [1 0]\n",
            " [0 0]\n",
            " [0 1]\n",
            " [1 1]\n",
            " [0 0]\n",
            " [0 0]\n",
            " [0 1]\n",
            " [0 0]\n",
            " [0 0]\n",
            " [1 1]\n",
            " [1 0]\n",
            " [0 1]\n",
            " [1 1]\n",
            " [0 1]\n",
            " [0 0]\n",
            " [0 0]\n",
            " [1 0]\n",
            " [0 0]\n",
            " [1 1]\n",
            " [0 0]\n",
            " [1 1]\n",
            " [0 0]\n",
            " [0 0]\n",
            " [1 1]\n",
            " [1 0]\n",
            " [1 1]\n",
            " [1 0]\n",
            " [1 0]\n",
            " [0 0]\n",
            " [0 0]\n",
            " [0 0]\n",
            " [0 1]\n",
            " [1 0]\n",
            " [0 0]\n",
            " [1 1]\n",
            " [1 1]\n",
            " [0 1]\n",
            " [0 1]\n",
            " [0 0]\n",
            " [1 0]\n",
            " [1 0]\n",
            " [0 0]]\n"
          ],
          "name": "stdout"
        }
      ]
    },
    {
      "cell_type": "code",
      "metadata": {
        "id": "6cxVlb-hk9o1",
        "colab": {
          "base_uri": "https://localhost:8080/",
          "height": 68
        },
        "outputId": "91df362d-5b46-477a-a015-2fa5f0c50361"
      },
      "source": [
        "from sklearn.metrics import confusion_matrix, accuracy_score\n",
        "cm = confusion_matrix(y_test, y_pred)\n",
        "print(cm)\n",
        "accuracy_score(y_test, y_pred)"
      ],
      "execution_count": null,
      "outputs": [
        {
          "output_type": "stream",
          "text": [
            "[[34 16]\n",
            " [30 20]]\n"
          ],
          "name": "stdout"
        },
        {
          "output_type": "execute_result",
          "data": {
            "text/plain": [
              "0.54"
            ]
          },
          "metadata": {
            "tags": []
          },
          "execution_count": 178
        }
      ]
    },
    {
      "cell_type": "code",
      "metadata": {
        "id": "3iS9q3uMNzuj",
        "colab": {
          "base_uri": "https://localhost:8080/",
          "height": 349
        },
        "outputId": "c5c699b6-c4eb-4452-92d8-9945f538d7ea"
      },
      "source": [
        "from matplotlib.colors import ListedColormap \n",
        "X_set, y_set = X_train, y_train \n",
        "X1, X2 = np.meshgrid(np.arange(start = X_set[:, 0].min() - 0,  \n",
        "                               stop = X_set[:, 0].max() + 1, step = 0.01), \n",
        "                     np.arange(start = X_set[:, 1].min() - 0,  \n",
        "                               stop = X_set[:, 1].max() + 1, step = 0.01)) \n",
        "  \n",
        "plt.contourf(X1, X2, classifier.predict( \n",
        "             np.array([X1.ravel(), X2.ravel()]).T).reshape( \n",
        "             X1.shape), alpha = 0.75, cmap = ListedColormap(('red', 'green'))) \n",
        "  \n",
        "plt.xlim(X1.min(), X1.max()) \n",
        "plt.ylim(X2.min(), X2.max()) \n",
        "  \n",
        "for i, j in enumerate(np.unique(y_set)): \n",
        "    plt.scatter(X_set[y_set == j, 0], X_set[y_set == j, 1], \n",
        "                c = ListedColormap(('red', 'green'))(i), label = j) \n",
        "      \n",
        "plt.title('Classifier (Training set)') \n",
        "plt.xlabel('Age') \n",
        "plt.ylabel('Weight') \n",
        "plt.legend() \n",
        "plt.show() "
      ],
      "execution_count": null,
      "outputs": [
        {
          "output_type": "stream",
          "text": [
            "*c* argument looks like a single numeric RGB or RGBA sequence, which should be avoided as value-mapping will have precedence in case its length matches with *x* & *y*.  Please use the *color* keyword-argument or provide a 2-D array with a single row if you intend to specify the same RGB or RGBA value for all points.\n",
            "*c* argument looks like a single numeric RGB or RGBA sequence, which should be avoided as value-mapping will have precedence in case its length matches with *x* & *y*.  Please use the *color* keyword-argument or provide a 2-D array with a single row if you intend to specify the same RGB or RGBA value for all points.\n"
          ],
          "name": "stderr"
        },
        {
          "output_type": "display_data",
          "data": {
            "image/png": "[encoded data removed]",
            "text/plain": [
              "<Figure size 432x288 with 1 Axes>"
            ]
          },
          "metadata": {
            "tags": [],
            "needs_background": "light"
          }
        }
      ]
    },
    {
      "cell_type": "code",
      "metadata": {
        "id": "-gj_FWVCOnoV",
        "colab": {
          "base_uri": "https://localhost:8080/",
          "height": 349
        },
        "outputId": "e40f4693-3ebd-4848-a4b9-e82889459bc6"
      },
      "source": [
        "X_set, y_set = X_test, y_test \n",
        "X1, X2 = np.meshgrid(np.arange(start = X_set[:, 0].min() - 0,  \n",
        "                               stop = X_set[:, 0].max() + 1, step = 0.01), \n",
        "                     np.arange(start = X_set[:, 1].min() - 0,  \n",
        "                               stop = X_set[:, 1].max() + 1, step = 0.01)) \n",
        "  \n",
        "plt.contourf(X1, X2, classifier.predict( \n",
        "             np.array([X1.ravel(), X2.ravel()]).T).reshape( \n",
        "             X1.shape), alpha = 0.75, cmap = ListedColormap(('red', 'green'))) \n",
        "  \n",
        "plt.xlim(X1.min(), X1.max()) \n",
        "plt.ylim(X2.min(), X2.max()) \n",
        "  \n",
        "for i, j in enumerate(np.unique(y_set)): \n",
        "    plt.scatter(X_set[y_set == j, 0], X_set[y_set == j, 1], \n",
        "                c = ListedColormap(('red', 'green'))(i), label = j) \n",
        "      \n",
        "plt.title('Classifier (Test set)') \n",
        "plt.xlabel('Age') \n",
        "plt.ylabel('Weight') \n",
        "plt.legend() \n",
        "plt.show() "
      ],
      "execution_count": null,
      "outputs": [
        {
          "output_type": "stream",
          "text": [
            "*c* argument looks like a single numeric RGB or RGBA sequence, which should be avoided as value-mapping will have precedence in case its length matches with *x* & *y*.  Please use the *color* keyword-argument or provide a 2-D array with a single row if you intend to specify the same RGB or RGBA value for all points.\n",
            "*c* argument looks like a single numeric RGB or RGBA sequence, which should be avoided as value-mapping will have precedence in case its length matches with *x* & *y*.  Please use the *color* keyword-argument or provide a 2-D array with a single row if you intend to specify the same RGB or RGBA value for all points.\n"
          ],
          "name": "stderr"
        },
        {
          "output_type": "display_data",
          "data": {
            "image/png": "[encoded data removed]",
            "text/plain": [
              "<Figure size 432x288 with 1 Axes>"
            ]
          },
          "metadata": {
            "tags": [],
            "needs_background": "light"
          }
        }
      ]
    },
    {
      "cell_type": "markdown",
      "metadata": {
        "id": "EBXp7TSsuoNx"
      },
      "source": [
        "#  Logistic Regression (using inbuilt function)"
      ]
    },
    {
      "cell_type": "code",
      "metadata": {
        "id": "i8KaPz2W3zRS",
        "colab": {
          "base_uri": "https://localhost:8080/",
          "height": 1000
        },
        "outputId": "7e2e4737-456f-442c-ec5e-f961c795a991"
      },
      "source": [
        "print(X_train)"
      ],
      "execution_count": null,
      "outputs": [
        {
          "output_type": "stream",
          "text": [
            "[[-2.14085703e+00 -1.57906882e+00]\n",
            " [ 7.53873818e-01  1.44824152e+00]\n",
            " [ 9.45098449e-01  1.21080542e+00]\n",
            " [-2.16057681e-01 -5.69965370e-01]\n",
            " [ 1.04510433e+00  1.09208737e+00]\n",
            " [ 9.09113070e-01  1.42342945e-01]\n",
            " [-2.83425658e-01  2.61060998e-01]\n",
            " [ 1.60204084e+00 -3.32529265e-01]\n",
            " [ 1.56563702e+00  6.17215155e-01]\n",
            " [-3.16063560e-01 -7.48042449e-01]\n",
            " [ 1.24260548e+00 -9.85478555e-01]\n",
            " [ 1.24218704e+00  1.21080542e+00]\n",
            " [ 1.22210218e+00  4.39138077e-01]\n",
            " [-8.14837653e-01 -2.13811213e-01]\n",
            " [ 2.80624238e-01 -6.29324397e-01]\n",
            " [-9.16517271e-01 -1.63842784e+00]\n",
            " [-1.77096081e+00 -3.32529265e-01]\n",
            " [ 6.94037664e-01 -5.69965370e-01]\n",
            " [ 5.85244658e-01  2.36248925e-02]\n",
            " [ 1.21833627e+00 -4.51247318e-01]\n",
            " [ 4.15360193e-01 -3.32529265e-01]\n",
            " [-1.49395708e+00 -3.32529265e-01]\n",
            " [ 7.77306158e-01  9.14010287e-01]\n",
            " [-2.37816282e-01  7.35933208e-01]\n",
            " [ 1.37692300e+00 -1.16355563e+00]\n",
            " [ 1.23758426e+00 -5.69965370e-01]\n",
            " [ 3.41297261e-01 -6.29324397e-01]\n",
            " [ 1.62625670e-01 -3.32529265e-01]\n",
            " [-6.01435986e-01 -9.26119528e-01]\n",
            " [ 2.84390150e-01 -1.46035076e+00]\n",
            " [-1.47470908e+00 -1.34163271e+00]\n",
            " [ 2.69326503e-01 -5.69965370e-01]\n",
            " [ 1.17147159e+00 -2.73170239e-01]\n",
            " [ 9.08694635e-01 -9.50931601e-02]\n",
            " [ 6.57633851e-01 -1.22291466e+00]\n",
            " [-6.52485012e-01  9.14010287e-01]\n",
            " [-5.61684695e-01  1.38888250e+00]\n",
            " [-1.46466665e+00 -3.57341338e-02]\n",
            " [ 1.26143504e+00  1.50760055e+00]\n",
            " [ 6.54954823e-03 -1.16355563e+00]\n",
            " [ 9.93218433e-01 -7.48042449e-01]\n",
            " [-1.68827917e-02  6.17215155e-01]\n",
            " [-1.49646768e+00  9.14010287e-01]\n",
            " [-2.35777460e-02 -9.26119528e-01]\n",
            " [-1.16883336e+00 -8.07401476e-01]\n",
            " [-8.96013974e-01 -1.10419661e+00]\n",
            " [ 6.30382248e-02  1.56695958e+00]\n",
            " [-1.48391465e+00  6.17215155e-01]\n",
            " [-2.81333485e-01  6.17215155e-01]\n",
            " [ 9.61835835e-01 -4.51247318e-01]\n",
            " [ 1.00577147e+00 -1.16355563e+00]\n",
            " [-4.11520009e-02 -1.99458200e+00]\n",
            " [ 3.25396745e-01 -4.51247318e-01]\n",
            " [ 3.99878111e-01 -3.91888292e-01]\n",
            " [-5.72563996e-01 -2.73170239e-01]\n",
            " [ 1.43550385e+00  9.14010287e-01]\n",
            " [ 5.17404895e-02  8.29839188e-02]\n",
            " [ 6.80594405e-02  4.98497103e-01]\n",
            " [-1.06062721e-02 -8.07401476e-01]\n",
            " [-2.12704869e+00  1.21080542e+00]\n",
            " [-1.83539974e+00 -1.16355563e+00]\n",
            " [-8.97269278e-01 -5.69965370e-01]\n",
            " [ 4.32516013e-01 -2.13811213e-01]\n",
            " [ 8.97396900e-01 -1.16355563e+00]\n",
            " [-2.94358309e-02 -1.54452186e-01]\n",
            " [-2.45348106e-01 -6.29324397e-01]\n",
            " [-5.09798799e-01  2.36248925e-02]\n",
            " [ 1.55643146e+00 -1.34163271e+00]\n",
            " [ 9.91544695e-01 -5.69965370e-01]\n",
            " [-6.62527444e-01 -1.22291466e+00]\n",
            " [ 1.03626385e-01 -1.46035076e+00]\n",
            " [ 1.46521271e+00  1.74503666e+00]\n",
            " [-2.00575599e-01  1.03272834e+00]\n",
            " [-2.59156449e-01 -3.32529265e-01]\n",
            " [-9.34928395e-01  2.51670400e+00]\n",
            " [-8.65049810e-01 -8.66760502e-01]\n",
            " [-3.48754813e-02  3.20420024e-01]\n",
            " [-5.34486443e-01  5.57856129e-01]\n",
            " [ 1.23925800e+00  1.50760055e+00]\n",
            " [ 6.47591419e-01 -8.07401476e-01]\n",
            " [ 6.49683592e-01 -3.91888292e-01]\n",
            " [ 3.83977595e-01 -2.73170239e-01]\n",
            " [-2.16219720e+00 -8.66760502e-01]\n",
            " [-1.10247067e-02  6.76574182e-01]\n",
            " [ 1.24344235e+00  6.17215155e-01]\n",
            " [-1.85339243e+00  3.79779050e-01]\n",
            " [ 8.83170122e-01 -1.16355563e+00]\n",
            " [ 2.67652765e-01 -5.81837176e-01]\n",
            " [-5.33231139e-01 -1.40099174e+00]\n",
            " [-5.66340827e-02  7.35933208e-01]\n",
            " [-2.06386506e+00  2.36248925e-02]\n",
            " [ 1.84802706e-01 -2.73170239e-01]\n",
            " [ 1.34135605e+00  3.20420024e-01]\n",
            " [-5.96833205e-01 -2.73170239e-01]\n",
            " [-2.18568289e-01 -2.73170239e-01]\n",
            " [-6.85959784e-01  2.01701971e-01]\n",
            " [ 1.69284115e+00  2.01701971e-01]\n",
            " [-3.61254502e-01  8.29839188e-02]\n",
            " [-8.92666497e-01 -3.91888292e-01]\n",
            " [-1.84251313e+00  6.17215155e-01]\n",
            " [-4.83018982e-01 -1.04483758e+00]\n",
            " [-1.50107047e+00 -3.32529265e-01]\n",
            " [-1.50567325e+00  4.39138077e-01]\n",
            " [-2.09362727e-01  1.56695958e+00]\n",
            " [-1.81908079e+00 -8.66760502e-01]\n",
            " [ 1.05682050e+00  7.35933208e-01]\n",
            " [ 1.57358728e+00  2.36248925e-02]\n",
            " [ 7.26622216e-02  1.09208737e+00]\n",
            " [-1.95554384e-01 -3.32529265e-01]\n",
            " [-6.08184291e-02  7.35933208e-01]\n",
            " [ 1.52086452e+00  1.09208737e+00]\n",
            " [-3.61307852e-02 -1.16355563e+00]\n",
            " [-3.75481280e-01  3.20420024e-01]\n",
            " [ 1.55182868e+00 -7.48042449e-01]\n",
            " [-3.17318864e-01 -6.29324397e-01]\n",
            " [-5.29465228e-01 -2.73170239e-01]\n",
            " [-1.20021596e+00 -1.34163271e+00]\n",
            " [-6.47463797e-01  9.14010287e-01]\n",
            " [-5.83861731e-01 -8.07401476e-01]\n",
            " [ 7.22437870e-02  3.20420024e-01]\n",
            " [-5.54152871e-01  1.80439568e+00]\n",
            " [ 1.02083512e+00  5.57856129e-01]\n",
            " [ 8.64340563e-01 -6.88683423e-01]\n",
            " [-6.22357718e-01  1.21080542e+00]\n",
            " [-2.06433684e-01  1.15144639e+00]\n",
            " [-8.34085647e-01  1.80439568e+00]\n",
            " [-1.25293872e+00  3.79779050e-01]\n",
            " [-2.06344662e+00 -9.50931601e-02]\n",
            " [-2.11873335e-01  5.57856129e-01]\n",
            " [ 1.26980373e+00 -2.73170239e-01]\n",
            " [ 9.77736351e-01  2.01701971e-01]\n",
            " [ 8.32539531e-01 -2.13811213e-01]\n",
            " [ 6.04074216e-01  1.38888250e+00]\n",
            " [-1.24791751e+00  2.01701971e-01]\n",
            " [ 7.85203066e-02 -1.81650492e+00]\n",
            " [-1.19268413e+00  7.44350318e+00]\n",
            " [-3.47864593e-01  1.21080542e+00]\n",
            " [-1.00522542e+00 -1.46035076e+00]\n",
            " [-2.62922361e-01 -3.91888292e-01]\n",
            " [ 3.27488918e-01  6.76574182e-01]\n",
            " [ 8.77312037e-01 -5.69965370e-01]\n",
            " [ 6.40059596e-01 -5.10606344e-01]\n",
            " [ 3.73935164e-01  8.29839188e-02]\n",
            " [ 6.32527772e-01 -2.73170239e-01]\n",
            " [ 1.52588573e+00 -2.73170239e-01]\n",
            " [-5.57918783e-01  1.98247276e+00]\n",
            " [ 2.59284072e-01 -2.73170239e-01]\n",
            " [-4.90132371e-01  2.36248925e-02]\n",
            " [ 6.87761145e-01 -1.04483758e+00]\n",
            " [ 4.33771317e-01 -9.50931601e-02]\n",
            " [-3.30708773e-01 -3.91888292e-01]\n",
            " [-5.53316002e-01 -1.54452186e-01]\n",
            " [ 9.72715136e-01  4.39138077e-01]\n",
            " [ 6.22013556e-02 -1.46035076e+00]\n",
            " [-5.04359149e-01  1.44824152e+00]\n",
            " [-5.28628358e-01 -1.16355563e+00]\n",
            " [ 5.62649187e-01  2.36248925e-02]\n",
            " [-3.30708773e-01 -4.51247318e-01]\n",
            " [ 4.16980581e-02  8.54651261e-01]\n",
            " [-3.24850688e-01 -2.73170239e-01]\n",
            " [ 9.70204528e-01  1.42342945e-01]\n",
            " [ 3.29999526e-01 -1.16355563e+00]\n",
            " [-5.54152871e-01 -3.57341338e-02]\n",
            " [ 6.03237347e-01 -3.57341338e-02]\n",
            " [ 1.53425442e+00  5.57856129e-01]\n",
            " [ 6.42570203e-01 -5.69965370e-01]\n",
            " [-9.17354140e-01  5.57856129e-01]\n",
            " [ 1.55894207e+00 -3.91888292e-01]\n",
            " [-6.40350408e-01  2.01701971e-01]\n",
            " [ 1.05974954e+00 -3.91888292e-01]\n",
            " [-2.77620924e-02 -8.66760502e-01]\n",
            " [ 1.17691124e+00 -9.50931601e-02]\n",
            " [-5.97670074e-01 -3.57341338e-02]\n",
            " [-3.81339365e-01  3.79779050e-01]\n",
            " [-1.14079824e+00 -8.66760502e-01]\n",
            " [ 1.23632896e+00  1.80439568e+00]\n",
            " [ 9.57233054e-01 -1.54452186e-01]\n",
            " [-1.18724448e+00  3.20420024e-01]\n",
            " [-6.27797368e-01  8.54651261e-01]\n",
            " [ 1.58028224e+00 -3.32529265e-01]\n",
            " [ 7.38810171e-01 -9.50931601e-02]\n",
            " [-1.54960888e+00 -3.57341338e-02]\n",
            " [-2.11658782e+00  2.36248925e-02]\n",
            " [-1.20356344e+00  1.21080542e+00]\n",
            " [-2.98907740e-01 -1.16355563e+00]\n",
            " [ 7.37136432e-01 -8.66760502e-01]\n",
            " [-3.52885809e-01  1.50760055e+00]\n",
            " [ 1.03924624e+00  1.32952347e+00]\n",
            " [-1.25837837e+00 -3.91888292e-01]\n",
            " [-3.38240596e-01  7.95292234e-01]\n",
            " [-1.80736462e+00 -2.73170239e-01]\n",
            " [-5.60429391e-01  5.57856129e-01]\n",
            " [ 6.37967422e-01  2.01701971e-01]\n",
            " [-1.89749649e-02 -3.91888292e-01]\n",
            " [-9.68821601e-01 -2.73170239e-01]\n",
            " [-1.11987651e+00  8.54651261e-01]\n",
            " [ 9.73498655e-02 -7.48042449e-01]\n",
            " [-1.67100828e-01  2.01701971e-01]\n",
            " [ 9.40077234e-01 -3.32529265e-01]\n",
            " [ 3.15772748e-01 -3.57341338e-02]\n",
            " [ 6.61818197e-01  1.03272834e+00]\n",
            " [ 4.09083673e-01 -1.46035076e+00]\n",
            " [ 8.10309144e-02  2.01701971e-01]\n",
            " [ 2.91085105e-01  1.56695958e+00]\n",
            " [-6.19428676e-01  2.36248925e-02]\n",
            " [ 1.19197489e+00 -7.48042449e-01]\n",
            " [-8.89737454e-01  1.38888250e+00]\n",
            " [-1.56090662e+00 -5.10606344e-01]\n",
            " [-1.89749649e-02  2.10119081e+00]\n",
            " [ 3.48829085e-01 -1.28227369e+00]\n",
            " [-1.83665505e+00  1.21080542e+00]\n",
            " [ 1.54011251e+00  2.36248925e-02]\n",
            " [-8.96432408e-01 -2.13811213e-01]\n",
            " [ 3.83977595e-01  2.61060998e-01]\n",
            " [ 7.03243226e-01  2.36248925e-02]\n",
            " [ 1.00075026e+00  1.32952347e+00]\n",
            " [-1.48516995e+00 -1.40099174e+00]\n",
            " [-1.82535731e+00  6.17215155e-01]\n",
            " [-5.57500349e-01 -8.66760502e-01]\n",
            " [-9.57942301e-01  9.14010287e-01]\n",
            " [-5.85117035e-01  4.98497103e-01]\n",
            " [ 2.64723722e-01  6.76574182e-01]\n",
            " [ 7.51363210e-01 -3.91888292e-01]\n",
            " [ 9.10368374e-01  7.95292234e-01]\n",
            " [-5.97251640e-01 -7.48042449e-01]\n",
            " [ 8.83588557e-01 -1.28227369e+00]\n",
            " [ 1.63760778e+00  2.01701971e-01]\n",
            " [ 8.95304727e-01 -1.10419661e+00]\n",
            " [ 4.32516013e-01  2.01701971e-01]\n",
            " [ 5.57627971e-01  8.29839188e-02]\n",
            " [ 1.01079269e+00 -3.32529265e-01]\n",
            " [-1.58601270e+00 -2.73170239e-01]\n",
            " [ 6.96966707e-01  1.21080542e+00]\n",
            " [-8.33667212e-01  4.39138077e-01]\n",
            " [-1.37888755e+00  2.36248925e-02]\n",
            " [ 1.70104143e-02 -1.63842784e+00]\n",
            " [ 3.21212399e-01 -1.54452186e-01]\n",
            " [ 1.21122288e+00  2.39798594e+00]\n",
            " [ 9.41332538e-01 -3.91888292e-01]\n",
            " [ 1.51040365e+00 -3.57341338e-02]\n",
            " [ 1.50119809e+00 -6.29324397e-01]\n",
            " [ 5.88538784e-02 -8.66760502e-01]\n",
            " [ 1.19891986e-02  3.20420024e-01]\n",
            " [-6.47882231e-01 -1.10419661e+00]\n",
            " [-2.52879930e-01 -5.69965370e-01]\n",
            " [ 1.27859086e+00 -3.57341338e-02]\n",
            " [-1.10247067e-02 -8.66760502e-01]\n",
            " [-1.26549176e+00 -1.51970979e+00]\n",
            " [-8.80113457e-01 -8.66760502e-01]\n",
            " [ 1.31750528e+00 -1.54452186e-01]\n",
            " [-3.34893119e-01 -8.66760502e-01]\n",
            " [-1.23494603e+00  1.09208737e+00]\n",
            " [ 9.59743662e-01  2.36248925e-02]\n",
            " [ 2.80205804e-01 -1.51970979e+00]\n",
            " [-5.38670790e-01  1.21080542e+00]\n",
            " [ 9.83594436e-01  1.56695958e+00]\n",
            " [-1.55421166e+00  5.57856129e-01]\n",
            " [-5.61266260e-01 -3.91888292e-01]\n",
            " [-1.46382978e+00  5.57856129e-01]\n",
            " [-5.76329908e-01  2.36248925e-02]\n",
            " [-6.05201898e-01 -7.48042449e-01]\n",
            " [ 6.86924275e-01  6.76574182e-01]\n",
            " [ 8.89865077e-01 -2.73170239e-01]\n",
            " [ 7.31696782e-01 -1.54452186e-01]\n",
            " [-2.14336764e+00 -5.10606344e-01]\n",
            " [ 8.93996073e-02  4.98497103e-01]\n",
            " [ 2.99035363e-01  2.39798594e+00]\n",
            " [ 1.29281764e+00  5.57856129e-01]\n",
            " [ 9.92381564e-01 -9.26119528e-01]\n",
            " [-2.23589505e-01 -1.28227369e+00]\n",
            " [ 1.57358728e+00 -1.75714590e+00]\n",
            " [ 3.93601592e-01 -6.88683423e-01]\n",
            " [ 1.25725069e+00 -5.10606344e-01]\n",
            " [-5.11472538e-01 -7.48042449e-01]\n",
            " [ 7.81018719e-02 -9.85478555e-01]\n",
            " [-2.08562366e+00  9.14010287e-01]\n",
            " [-8.83042500e-01  3.20420024e-01]\n",
            " [ 9.39240364e-01  1.50760055e+00]\n",
            " [ 1.30829972e+00  2.36248925e-02]\n",
            " [-9.16098836e-01  1.80439568e+00]\n",
            " [-1.52324750e+00 -3.32529265e-01]\n",
            " [-2.93049655e-01 -8.66760502e-01]\n",
            " [-1.73012263e-02 -9.85478555e-01]\n",
            " [ 8.93630988e-01  2.01701971e-01]\n",
            " [-1.53538211e+00  7.95292234e-01]\n",
            " [ 4.24984190e-01  6.17215155e-01]\n",
            " [ 6.11187605e-01 -1.28227369e+00]\n",
            " [-2.66688273e-01  6.76574182e-01]\n",
            " [ 4.13268020e-01 -2.73170239e-01]\n",
            " [ 5.30011285e-01 -1.28227369e+00]\n",
            " [ 1.67275629e+00  1.44824152e+00]\n",
            " [-1.15125911e+00 -2.73170239e-01]\n",
            " [ 6.77300279e-01  9.73369313e-01]\n",
            " [ 9.14917805e-02 -3.91888292e-01]\n",
            " [ 6.15371952e-01 -3.91888292e-01]\n",
            " [ 8.76893603e-01  6.17215155e-01]\n",
            " [-2.19357980e+00 -3.91888292e-01]\n",
            " [ 3.26233614e-01 -2.73170239e-01]\n",
            " [ 9.37985060e-01 -9.85478555e-01]\n",
            " [-1.83832879e+00  6.76574182e-01]\n",
            " [-2.78822877e-01 -6.88683423e-01]\n",
            " [ 1.27189590e+00  2.01701971e-01]\n",
            " [ 3.45900043e-01 -5.69965370e-01]\n",
            " [ 9.94892172e-01  1.03272834e+00]\n",
            " [ 6.61818197e-01 -8.66760502e-01]\n",
            " [ 9.54722446e-01 -1.16355563e+00]\n",
            " [-1.21527961e+00  6.76574182e-01]\n",
            " [ 1.46186523e+00 -6.88683423e-01]\n",
            " [ 1.26394565e+00  1.09208737e+00]\n",
            " [-4.53363473e-02  1.42342945e-01]\n",
            " [-2.06470193e+00  5.57856129e-01]\n",
            " [-6.31563280e-01  1.21080542e+00]\n",
            " [-5.28209924e-01 -6.88683423e-01]\n",
            " [-5.91446905e-02 -3.91888292e-01]\n",
            " [ 1.22001001e+00  3.79779050e-01]\n",
            " [-2.44146153e-02  1.68567763e+00]\n",
            " [ 1.11523293e-02  2.36248925e-02]\n",
            " [-9.01872059e-01  2.39798594e+00]\n",
            " [-6.04783463e-01 -6.88683423e-01]\n",
            " [ 4.05736196e-01 -5.69965370e-01]\n",
            " [ 2.90666670e-01  2.61060998e-01]\n",
            " [ 1.31081033e+00  9.14010287e-01]\n",
            " [-2.17349493e+00 -7.48042449e-01]\n",
            " [ 7.31278347e-01  9.14010287e-01]\n",
            " [-1.15920936e+00 -8.66760502e-01]\n",
            " [ 6.78555583e-01  2.69478108e+00]\n",
            " [ 7.78143027e-01 -3.32529265e-01]\n",
            " [ 4.23310451e-01  2.01701971e-01]\n",
            " [ 5.55535798e-01 -1.34163271e+00]\n",
            " [ 2.87319193e-01  2.01701971e-01]\n",
            " [-1.51153133e+00 -3.57341338e-02]\n",
            " [-1.23787508e+00 -3.57341338e-02]\n",
            " [ 1.57860850e+00 -1.54452186e-01]\n",
            " [-1.21235056e+00  5.60337336e+00]\n",
            " [-2.13750956e+00  1.42342945e-01]\n",
            " [ 2.92340408e-01 -9.50931601e-02]\n",
            " [ 5.60138579e-01  5.57856129e-01]\n",
            " [ 1.04426746e+00 -3.57341338e-02]\n",
            " [-2.84262528e-01 -7.48042449e-01]\n",
            " [-2.10947443e+00 -5.10606344e-01]\n",
            " [ 1.54680746e+00 -1.46035076e+00]\n",
            " [ 5.96907477e-02 -3.57341338e-02]\n",
            " [-8.68815722e-01 -9.50931601e-02]\n",
            " [ 8.70198648e-01 -4.51247318e-01]\n",
            " [-9.01872059e-01 -5.10606344e-01]\n",
            " [-2.08855270e+00  2.61060998e-01]\n",
            " [ 1.49408470e+00 -2.13811213e-01]\n",
            " [-2.09650296e+00 -8.66760502e-01]\n",
            " [ 9.41332538e-01 -4.51247318e-01]\n",
            " [ 7.07009138e-01 -1.40099174e+00]\n",
            " [-1.15125911e+00  2.36248925e-02]\n",
            " [-5.79677385e-01 -3.57341338e-02]\n",
            " [ 9.86941913e-01 -5.69965370e-01]\n",
            " [ 9.53467142e-01  6.76574182e-01]\n",
            " [-2.14378607e+00  4.39138077e-01]\n",
            " [ 9.56396185e-01 -1.22291466e+00]\n",
            " [ 1.61292014e+00 -3.32529265e-01]\n",
            " [ 4.55948353e-01 -3.91888292e-01]\n",
            " [ 3.33347003e-01 -1.04483758e+00]\n",
            " [ 9.34219149e-01 -3.32529265e-01]\n",
            " [-9.42460219e-01 -2.13811213e-01]\n",
            " [ 6.12024475e-01  4.00067965e+00]\n",
            " [-2.52879930e-01 -9.50931601e-02]\n",
            " [-9.13588229e-01  2.01701971e-01]\n",
            " [ 3.83140726e-01 -1.04483758e+00]\n",
            " [ 9.12460547e-01 -2.13811213e-01]\n",
            " [-1.48768056e+00 -1.10419661e+00]\n",
            " [-1.85088183e+00  1.38888250e+00]\n",
            " [ 9.55977750e-01 -1.04483758e+00]\n",
            " [ 1.60496988e+00 -2.13811213e-01]\n",
            " [ 2.55099725e-01 -4.51247318e-01]\n",
            " [ 1.59743806e+00 -9.85478555e-01]\n",
            " [ 4.09920543e-01 -8.66760502e-01]\n",
            " [-2.16010503e+00 -5.69965370e-01]\n",
            " [ 6.35875249e-01 -1.28227369e+00]\n",
            " [ 4.10757412e-01 -2.73170239e-01]\n",
            " [-2.64596100e-01 -9.50931601e-02]\n",
            " [ 6.42935288e-02 -2.73170239e-01]\n",
            " [ 9.72296701e-01  6.17215155e-01]\n",
            " [-6.23194587e-01 -2.73170239e-01]\n",
            " [-2.08269462e+00  1.15144639e+00]\n",
            " [ 6.81903060e-01 -5.69965370e-01]\n",
            " [ 1.20410949e+00  2.36248925e-02]\n",
            " [ 1.50161652e+00  1.03272834e+00]\n",
            " [-2.09441079e+00  7.95292234e-01]\n",
            " [ 1.66271386e+00 -1.04483758e+00]\n",
            " [ 1.99394568e-02  1.15144639e+00]\n",
            " [ 6.76881844e-01 -6.88683423e-01]\n",
            " [-3.30708773e-01  2.61060998e-01]\n",
            " [ 1.02627477e+00 -2.73170239e-01]\n",
            " [-5.30720532e-01 -1.04483758e+00]\n",
            " [ 9.14917805e-02 -3.91888292e-01]\n",
            " [-3.70041629e-01  1.27016444e+00]\n",
            " [ 8.22328679e-03  7.95292234e-01]\n",
            " [-2.20242028e-01  2.61060998e-01]\n",
            " [-5.53316002e-01  9.14010287e-01]\n",
            " [ 6.48846723e-01 -9.26119528e-01]\n",
            " [ 6.97331791e-02  9.14010287e-01]\n",
            " [-4.52054819e-01 -3.32529265e-01]\n",
            " [-1.19017353e+00 -6.29324397e-01]]\n"
          ],
          "name": "stdout"
        }
      ]
    },
    {
      "cell_type": "code",
      "metadata": {
        "id": "PFfsDHKT37Kc"
      },
      "source": [
        "from sklearn.preprocessing import StandardScaler\n",
        "sc = StandardScaler()\n",
        "X_train = sc.fit_transform(X_train)\n",
        "X_test = sc.transform(X_test)"
      ],
      "execution_count": null,
      "outputs": []
    },
    {
      "cell_type": "code",
      "metadata": {
        "id": "BrXbA7Ak4CTh",
        "colab": {
          "base_uri": "https://localhost:8080/",
          "height": 102
        },
        "outputId": "9500b89f-f8dc-47a8-95bb-cf119ce3f3a0"
      },
      "source": [
        "from sklearn.linear_model import LogisticRegression\n",
        "classifier = LogisticRegression(random_state = 0)\n",
        "classifier.fit(X_train, y_train)"
      ],
      "execution_count": null,
      "outputs": [
        {
          "output_type": "execute_result",
          "data": {
            "text/plain": [
              "LogisticRegression(C=1.0, class_weight=None, dual=False, fit_intercept=True,\n",
              "                   intercept_scaling=1, l1_ratio=None, max_iter=100,\n",
              "                   multi_class='auto', n_jobs=None, penalty='l2',\n",
              "                   random_state=0, solver='lbfgs', tol=0.0001, verbose=0,\n",
              "                   warm_start=False)"
            ]
          },
          "metadata": {
            "tags": []
          },
          "execution_count": 183
        }
      ]
    },
    {
      "cell_type": "code",
      "metadata": {
        "id": "M-eAVtyt4HJn",
        "colab": {
          "base_uri": "https://localhost:8080/",
          "height": 34
        },
        "outputId": "55bcc043-e534-4582-ab77-55d36ca6b9ed"
      },
      "source": [
        " print(classifier.predict(sc.transform([[20228,85.0]])))"
      ],
      "execution_count": null,
      "outputs": [
        {
          "output_type": "stream",
          "text": [
            "[1]\n"
          ],
          "name": "stdout"
        }
      ]
    },
    {
      "cell_type": "code",
      "metadata": {
        "id": "oA4hYunb4i9t",
        "colab": {
          "base_uri": "https://localhost:8080/",
          "height": 1000
        },
        "outputId": "11f5a67d-34fe-4345-f8e8-9ef41a628fe5"
      },
      "source": [
        "y_pred = classifier.predict(X_test)\n",
        "print(np.concatenate((y_pred.reshape(len(y_pred),1), y_test.reshape(len(y_test),1)),1))"
      ],
      "execution_count": null,
      "outputs": [
        {
          "output_type": "stream",
          "text": [
            "[[1 0]\n",
            " [0 0]\n",
            " [1 1]\n",
            " [1 1]\n",
            " [0 1]\n",
            " [1 1]\n",
            " [0 0]\n",
            " [1 1]\n",
            " [0 1]\n",
            " [1 1]\n",
            " [1 1]\n",
            " [0 1]\n",
            " [1 0]\n",
            " [1 1]\n",
            " [1 1]\n",
            " [1 1]\n",
            " [0 1]\n",
            " [1 1]\n",
            " [1 1]\n",
            " [0 0]\n",
            " [0 1]\n",
            " [0 1]\n",
            " [1 0]\n",
            " [0 1]\n",
            " [0 1]\n",
            " [1 1]\n",
            " [1 0]\n",
            " [1 1]\n",
            " [0 0]\n",
            " [1 1]\n",
            " [0 0]\n",
            " [0 0]\n",
            " [1 1]\n",
            " [0 0]\n",
            " [0 0]\n",
            " [1 0]\n",
            " [0 0]\n",
            " [0 0]\n",
            " [0 0]\n",
            " [0 0]\n",
            " [0 0]\n",
            " [1 1]\n",
            " [1 1]\n",
            " [0 1]\n",
            " [1 1]\n",
            " [1 1]\n",
            " [0 0]\n",
            " [1 0]\n",
            " [0 1]\n",
            " [0 0]\n",
            " [1 1]\n",
            " [1 1]\n",
            " [1 1]\n",
            " [0 1]\n",
            " [1 0]\n",
            " [0 0]\n",
            " [1 1]\n",
            " [1 0]\n",
            " [1 0]\n",
            " [0 0]\n",
            " [0 1]\n",
            " [1 1]\n",
            " [1 0]\n",
            " [1 0]\n",
            " [1 1]\n",
            " [1 0]\n",
            " [1 0]\n",
            " [1 1]\n",
            " [0 0]\n",
            " [1 1]\n",
            " [1 1]\n",
            " [1 1]\n",
            " [0 0]\n",
            " [1 0]\n",
            " [0 0]\n",
            " [0 0]\n",
            " [1 1]\n",
            " [0 0]\n",
            " [0 1]\n",
            " [0 0]\n",
            " [0 0]\n",
            " [1 1]\n",
            " [1 0]\n",
            " [1 1]\n",
            " [0 0]\n",
            " [0 0]\n",
            " [1 0]\n",
            " [1 0]\n",
            " [1 0]\n",
            " [1 1]\n",
            " [0 0]\n",
            " [0 0]\n",
            " [0 1]\n",
            " [1 1]\n",
            " [1 1]\n",
            " [0 1]\n",
            " [0 0]\n",
            " [0 0]\n",
            " [0 0]\n",
            " [0 0]]\n"
          ],
          "name": "stdout"
        }
      ]
    },
    {
      "cell_type": "code",
      "metadata": {
        "id": "k_JEasDJ4p7-",
        "colab": {
          "base_uri": "https://localhost:8080/",
          "height": 68
        },
        "outputId": "2b2b1a00-30c1-4216-d919-4813c0ecc5b5"
      },
      "source": [
        "from sklearn.metrics import confusion_matrix, accuracy_score\n",
        "cm = confusion_matrix(y_test, y_pred)\n",
        "print(cm)\n",
        "accuracy_score(y_test, y_pred)"
      ],
      "execution_count": null,
      "outputs": [
        {
          "output_type": "stream",
          "text": [
            "[[32 18]\n",
            " [15 35]]\n"
          ],
          "name": "stdout"
        },
        {
          "output_type": "execute_result",
          "data": {
            "text/plain": [
              "0.67"
            ]
          },
          "metadata": {
            "tags": []
          },
          "execution_count": 186
        }
      ]
    },
    {
      "cell_type": "code",
      "metadata": {
        "id": "pYhQQwP4CMaj",
        "colab": {
          "base_uri": "https://localhost:8080/",
          "height": 349
        },
        "outputId": "e7cd69db-8f52-466f-fae3-7877f26aeec1"
      },
      "source": [
        "from matplotlib.colors import ListedColormap \n",
        "X_set, y_set = X_train, y_train \n",
        "X1, X2 = np.meshgrid(np.arange(start = X_set[:, 0].min() - 0,  \n",
        "                               stop = X_set[:, 0].max() + 1, step = 0.01), \n",
        "                     np.arange(start = X_set[:, 1].min() - 0,  \n",
        "                               stop = X_set[:, 1].max() + 1, step = 0.01)) \n",
        "  \n",
        "plt.contourf(X1, X2, classifier.predict( \n",
        "             np.array([X1.ravel(), X2.ravel()]).T).reshape( \n",
        "             X1.shape), alpha = 0.75, cmap = ListedColormap(('red', 'green'))) \n",
        "  \n",
        "plt.xlim(X1.min(), X1.max()) \n",
        "plt.ylim(X2.min(), X2.max()) \n",
        "  \n",
        "for i, j in enumerate(np.unique(y_set)): \n",
        "    plt.scatter(X_set[y_set == j, 0], X_set[y_set == j, 1], \n",
        "                c = ListedColormap(('red', 'green'))(i), label = j) \n",
        "      \n",
        "plt.title('Classifier (Training set)') \n",
        "plt.xlabel('Age') \n",
        "plt.ylabel('Weight') \n",
        "plt.legend() \n",
        "plt.show() "
      ],
      "execution_count": null,
      "outputs": [
        {
          "output_type": "stream",
          "text": [
            "*c* argument looks like a single numeric RGB or RGBA sequence, which should be avoided as value-mapping will have precedence in case its length matches with *x* & *y*.  Please use the *color* keyword-argument or provide a 2-D array with a single row if you intend to specify the same RGB or RGBA value for all points.\n",
            "*c* argument looks like a single numeric RGB or RGBA sequence, which should be avoided as value-mapping will have precedence in case its length matches with *x* & *y*.  Please use the *color* keyword-argument or provide a 2-D array with a single row if you intend to specify the same RGB or RGBA value for all points.\n"
          ],
          "name": "stderr"
        },
        {
          "output_type": "display_data",
          "data": {
            "image/png": "[encoded data removed]",
            "text/plain": [
              "<Figure size 432x288 with 1 Axes>"
            ]
          },
          "metadata": {
            "tags": [],
            "needs_background": "light"
          }
        }
      ]
    },
    {
      "cell_type": "code",
      "metadata": {
        "id": "VCnIPTw9O76g",
        "colab": {
          "base_uri": "https://localhost:8080/",
          "height": 349
        },
        "outputId": "1e038f3b-0f71-4e35-8ba2-27944f3fb764"
      },
      "source": [
        "X_set, y_set = X_test, y_test \n",
        "X1, X2 = np.meshgrid(np.arange(start = X_set[:, 0].min() - 0,  \n",
        "                               stop = X_set[:, 0].max() + 1, step = 0.01), \n",
        "                     np.arange(start = X_set[:, 1].min() - 0,  \n",
        "                               stop = X_set[:, 1].max() + 1, step = 0.01)) \n",
        "  \n",
        "plt.contourf(X1, X2, classifier.predict( \n",
        "             np.array([X1.ravel(), X2.ravel()]).T).reshape( \n",
        "             X1.shape), alpha = 0.75, cmap = ListedColormap(('red', 'green'))) \n",
        "  \n",
        "plt.xlim(X1.min(), X1.max()) \n",
        "plt.ylim(X2.min(), X2.max()) \n",
        "  \n",
        "for i, j in enumerate(np.unique(y_set)): \n",
        "    plt.scatter(X_set[y_set == j, 0], X_set[y_set == j, 1], \n",
        "                c = ListedColormap(('red', 'green'))(i), label = j) \n",
        "      \n",
        "plt.title('Classifier (Test set)') \n",
        "plt.xlabel('Age') \n",
        "plt.ylabel('Weight') \n",
        "plt.legend() \n",
        "plt.show() "
      ],
      "execution_count": null,
      "outputs": [
        {
          "output_type": "stream",
          "text": [
            "*c* argument looks like a single numeric RGB or RGBA sequence, which should be avoided as value-mapping will have precedence in case its length matches with *x* & *y*.  Please use the *color* keyword-argument or provide a 2-D array with a single row if you intend to specify the same RGB or RGBA value for all points.\n",
            "*c* argument looks like a single numeric RGB or RGBA sequence, which should be avoided as value-mapping will have precedence in case its length matches with *x* & *y*.  Please use the *color* keyword-argument or provide a 2-D array with a single row if you intend to specify the same RGB or RGBA value for all points.\n"
          ],
          "name": "stderr"
        },
        {
          "output_type": "display_data",
          "data": {
            "image/png": "[encoded data removed]",
            "text/plain": [
              "<Figure size 432x288 with 1 Axes>"
            ]
          },
          "metadata": {
            "tags": [],
            "needs_background": "light"
          }
        }
      ]
    },
    {
      "cell_type": "code",
      "metadata": {
        "id": "BeW-KgqdLoaW",
        "colab": {
          "base_uri": "https://localhost:8080/",
          "height": 349
        },
        "outputId": "d98de3d7-58ed-4ce6-aa68-6300e0daaaba"
      },
      "source": [
        "from matplotlib.colors import ListedColormap \n",
        "X_set, y_set = X_train, y_train \n",
        "X1, X2 = np.meshgrid(np.arange(start = X_set[:, 0].min() - 0,  \n",
        "                               stop = X_set[:, 0].max() + 1, step = 0.01), \n",
        "                     np.arange(start = X_set[:, 1].min() - 0,  \n",
        "                               stop = X_set[:, 1].max() + 1, step = 0.01)) \n",
        "  \n",
        "plt.contourf(X1, X2, classifier.predict( \n",
        "             np.array([X1.ravel(), X2.ravel()]).T).reshape( \n",
        "             X1.shape), alpha = 0.75, cmap = ListedColormap(('red', 'green'))) \n",
        "  \n",
        "plt.xlim(X1.min(), X1.max()) \n",
        "plt.ylim(X2.min(), X2.max()) \n",
        "  \n",
        "for i, j in enumerate(np.unique(y_set)): \n",
        "    plt.scatter(X_set[y_set == j, 0], X_set[y_set == j, 1], \n",
        "                c = ListedColormap(('red', 'green'))(i), label = j) \n",
        "      \n",
        "plt.title('Classifier (Training set)') \n",
        "plt.xlabel('Age') \n",
        "plt.ylabel('Weight') \n",
        "plt.legend() \n",
        "plt.show() "
      ],
      "execution_count": null,
      "outputs": [
        {
          "output_type": "stream",
          "text": [
            "*c* argument looks like a single numeric RGB or RGBA sequence, which should be avoided as value-mapping will have precedence in case its length matches with *x* & *y*.  Please use the *color* keyword-argument or provide a 2-D array with a single row if you intend to specify the same RGB or RGBA value for all points.\n",
            "*c* argument looks like a single numeric RGB or RGBA sequence, which should be avoided as value-mapping will have precedence in case its length matches with *x* & *y*.  Please use the *color* keyword-argument or provide a 2-D array with a single row if you intend to specify the same RGB or RGBA value for all points.\n"
          ],
          "name": "stderr"
        },
        {
          "output_type": "display_data",
          "data": {
            "image/png": "[encoded data removed]",
            "text/plain": [
              "<Figure size 432x288 with 1 Axes>"
            ]
          },
          "metadata": {
            "tags": [],
            "needs_background": "light"
          }
        }
      ]
    },
    {
      "cell_type": "markdown",
      "metadata": {
        "id": "8_v-3b8fPX3P"
      },
      "source": [
        "#  SVM classifier (using a linear kernel)"
      ]
    },
    {
      "cell_type": "code",
      "metadata": {
        "id": "nIav7rahPadD",
        "colab": {
          "base_uri": "https://localhost:8080/",
          "height": 85
        },
        "outputId": "4c54a8e2-1936-41c2-a087-7b69d0dfc805"
      },
      "source": [
        "from sklearn.svm import SVC\n",
        "classifier = SVC( kernel ='linear',random_state = 0 )\n",
        "classifier.fit(X_train,y_train)"
      ],
      "execution_count": null,
      "outputs": [
        {
          "output_type": "execute_result",
          "data": {
            "text/plain": [
              "SVC(C=1.0, break_ties=False, cache_size=200, class_weight=None, coef0=0.0,\n",
              "    decision_function_shape='ovr', degree=3, gamma='scale', kernel='linear',\n",
              "    max_iter=-1, probability=False, random_state=0, shrinking=True, tol=0.001,\n",
              "    verbose=False)"
            ]
          },
          "metadata": {
            "tags": []
          },
          "execution_count": 190
        }
      ]
    },
    {
      "cell_type": "code",
      "metadata": {
        "id": "BqSLwXBuSTvy",
        "colab": {
          "base_uri": "https://localhost:8080/",
          "height": 34
        },
        "outputId": "18ea4285-157e-4bcc-8334-233882ce32bd"
      },
      "source": [
        "print(classifier.predict(sc.transform([[20228,85.0]])))"
      ],
      "execution_count": null,
      "outputs": [
        {
          "output_type": "stream",
          "text": [
            "[1]\n"
          ],
          "name": "stdout"
        }
      ]
    },
    {
      "cell_type": "code",
      "metadata": {
        "id": "-Fy7v5SFUKbD"
      },
      "source": [
        "y_pred = classifier.predict(X_test)"
      ],
      "execution_count": null,
      "outputs": []
    },
    {
      "cell_type": "code",
      "metadata": {
        "id": "NoD5GZSLT7Fu",
        "colab": {
          "base_uri": "https://localhost:8080/",
          "height": 68
        },
        "outputId": "9138a7a5-fee8-4cca-b75a-d2612e76c0d5"
      },
      "source": [
        "from sklearn.metrics import confusion_matrix, accuracy_score\n",
        "cm = confusion_matrix(y_test, y_pred)\n",
        "print(cm)\n",
        "accuracy_score(y_test, y_pred)"
      ],
      "execution_count": null,
      "outputs": [
        {
          "output_type": "stream",
          "text": [
            "[[32 18]\n",
            " [15 35]]\n"
          ],
          "name": "stdout"
        },
        {
          "output_type": "execute_result",
          "data": {
            "text/plain": [
              "0.67"
            ]
          },
          "metadata": {
            "tags": []
          },
          "execution_count": 193
        }
      ]
    },
    {
      "cell_type": "code",
      "metadata": {
        "id": "LL8M7sbgPYfY",
        "colab": {
          "base_uri": "https://localhost:8080/",
          "height": 349
        },
        "outputId": "2cde3d4c-fef5-4e13-c5ef-acfe1f6cb6a7"
      },
      "source": [
        "X_set, y_set = X_train, y_train \n",
        "X1, X2 = np.meshgrid(np.arange(start = X_set[:, 0].min() - 0,  \n",
        "                               stop = X_set[:, 0].max() + 1, step = 0.01), \n",
        "                     np.arange(start = X_set[:, 1].min() - 0,  \n",
        "                               stop = X_set[:, 1].max() + 1, step = 0.01)) \n",
        "  \n",
        "plt.contourf(X1, X2, classifier.predict( \n",
        "             np.array([X1.ravel(), X2.ravel()]).T).reshape( \n",
        "             X1.shape), alpha = 0.75, cmap = ListedColormap(('red', 'green'))) \n",
        "  \n",
        "plt.xlim(X1.min(), X1.max()) \n",
        "plt.ylim(X2.min(), X2.max()) \n",
        "  \n",
        "for i, j in enumerate(np.unique(y_set)): \n",
        "    plt.scatter(X_set[y_set == j, 0], X_set[y_set == j, 1], \n",
        "                c = ListedColormap(('red', 'green'))(i), label = j) \n",
        "      \n",
        "plt.title('Classifier (Training set)') \n",
        "plt.xlabel('Age') \n",
        "plt.ylabel('Weight') \n",
        "plt.legend() \n",
        "plt.show() "
      ],
      "execution_count": null,
      "outputs": [
        {
          "output_type": "stream",
          "text": [
            "*c* argument looks like a single numeric RGB or RGBA sequence, which should be avoided as value-mapping will have precedence in case its length matches with *x* & *y*.  Please use the *color* keyword-argument or provide a 2-D array with a single row if you intend to specify the same RGB or RGBA value for all points.\n",
            "*c* argument looks like a single numeric RGB or RGBA sequence, which should be avoided as value-mapping will have precedence in case its length matches with *x* & *y*.  Please use the *color* keyword-argument or provide a 2-D array with a single row if you intend to specify the same RGB or RGBA value for all points.\n"
          ],
          "name": "stderr"
        },
        {
          "output_type": "display_data",
          "data": {
            "image/png": "[encoded data removed]",
            "text/plain": [
              "<Figure size 432x288 with 1 Axes>"
            ]
          },
          "metadata": {
            "tags": [],
            "needs_background": "light"
          }
        }
      ]
    },
    {
      "cell_type": "code",
      "metadata": {
        "id": "n-YD57QfQkAt",
        "colab": {
          "base_uri": "https://localhost:8080/",
          "height": 349
        },
        "outputId": "d96e5845-71c1-4d9c-f2a1-7747c6565357"
      },
      "source": [
        "X_set, y_set = X_test, y_test \n",
        "X1, X2 = np.meshgrid(np.arange(start = X_set[:, 0].min() - 0,  \n",
        "                               stop = X_set[:, 0].max() + 1, step = 0.01), \n",
        "                     np.arange(start = X_set[:, 1].min() - 0,  \n",
        "                               stop = X_set[:, 1].max() + 1, step = 0.01)) \n",
        "  \n",
        "plt.contourf(X1, X2, classifier.predict( \n",
        "             np.array([X1.ravel(), X2.ravel()]).T).reshape( \n",
        "             X1.shape), alpha = 0.75, cmap = ListedColormap(('red', 'green'))) \n",
        "  \n",
        "plt.xlim(X1.min(), X1.max()) \n",
        "plt.ylim(X2.min(), X2.max()) \n",
        "  \n",
        "for i, j in enumerate(np.unique(y_set)): \n",
        "    plt.scatter(X_set[y_set == j, 0], X_set[y_set == j, 1], \n",
        "                c = ListedColormap(('red', 'green'))(i), label = j) \n",
        "      \n",
        "plt.title('Classifier (Test set)') \n",
        "plt.xlabel('Age') \n",
        "plt.ylabel('Weight') \n",
        "plt.legend() \n",
        "plt.show() "
      ],
      "execution_count": null,
      "outputs": [
        {
          "output_type": "stream",
          "text": [
            "*c* argument looks like a single numeric RGB or RGBA sequence, which should be avoided as value-mapping will have precedence in case its length matches with *x* & *y*.  Please use the *color* keyword-argument or provide a 2-D array with a single row if you intend to specify the same RGB or RGBA value for all points.\n",
            "*c* argument looks like a single numeric RGB or RGBA sequence, which should be avoided as value-mapping will have precedence in case its length matches with *x* & *y*.  Please use the *color* keyword-argument or provide a 2-D array with a single row if you intend to specify the same RGB or RGBA value for all points.\n"
          ],
          "name": "stderr"
        },
        {
          "output_type": "display_data",
          "data": {
            "image/png": "[encoded data removed]",
            "text/plain": [
              "<Figure size 432x288 with 1 Axes>"
            ]
          },
          "metadata": {
            "tags": [],
            "needs_background": "light"
          }
        }
      ]
    },
    {
      "cell_type": "markdown",
      "metadata": {
        "id": "YWIEFlsKW3cT"
      },
      "source": [
        "#SVM classifier (using a Polynomial kernel and a Gaussian kernel)"
      ]
    },
    {
      "cell_type": "code",
      "metadata": {
        "id": "jHwT10OLTccU",
        "colab": {
          "base_uri": "https://localhost:8080/",
          "height": 85
        },
        "outputId": "b1e8a047-f90a-4740-a64f-179b1601fef1"
      },
      "source": [
        "from sklearn.svm import SVC\n",
        "classifier = SVC(kernel = 'poly', random_state = 0)\n",
        "classifier.fit(X_train, y_train)"
      ],
      "execution_count": null,
      "outputs": [
        {
          "output_type": "execute_result",
          "data": {
            "text/plain": [
              "SVC(C=1.0, break_ties=False, cache_size=200, class_weight=None, coef0=0.0,\n",
              "    decision_function_shape='ovr', degree=3, gamma='scale', kernel='poly',\n",
              "    max_iter=-1, probability=False, random_state=0, shrinking=True, tol=0.001,\n",
              "    verbose=False)"
            ]
          },
          "metadata": {
            "tags": []
          },
          "execution_count": 196
        }
      ]
    },
    {
      "cell_type": "code",
      "metadata": {
        "id": "kcF6EetF6MqO",
        "colab": {
          "base_uri": "https://localhost:8080/",
          "height": 34
        },
        "outputId": "5234ebfe-4db3-4509-926b-f5c926c3feea"
      },
      "source": [
        "print(classifier.predict(sc.transform([[20228,85.0]])))"
      ],
      "execution_count": null,
      "outputs": [
        {
          "output_type": "stream",
          "text": [
            "[1]\n"
          ],
          "name": "stdout"
        }
      ]
    },
    {
      "cell_type": "code",
      "metadata": {
        "id": "XdWsV1S5TiNL"
      },
      "source": [
        "y_pred = classifier.predict(X_test)"
      ],
      "execution_count": null,
      "outputs": []
    },
    {
      "cell_type": "code",
      "metadata": {
        "id": "rzr8ezKOTmOg",
        "colab": {
          "base_uri": "https://localhost:8080/",
          "height": 68
        },
        "outputId": "63f16be9-56d2-42ae-a179-497101f21970"
      },
      "source": [
        "cm = confusion_matrix(y_test, y_pred)\n",
        "print(cm)\n",
        "accuracy_score(y_test, y_pred)"
      ],
      "execution_count": null,
      "outputs": [
        {
          "output_type": "stream",
          "text": [
            "[[14 36]\n",
            " [ 3 47]]\n"
          ],
          "name": "stdout"
        },
        {
          "output_type": "execute_result",
          "data": {
            "text/plain": [
              "0.61"
            ]
          },
          "metadata": {
            "tags": []
          },
          "execution_count": 198
        }
      ]
    },
    {
      "cell_type": "code",
      "metadata": {
        "id": "EtI9vdKhTrDL",
        "colab": {
          "base_uri": "https://localhost:8080/",
          "height": 349
        },
        "outputId": "1bd161b2-3e98-4a7e-df76-182dea10c8f8"
      },
      "source": [
        "X_set, y_set = X_train, y_train \n",
        "X1, X2 = np.meshgrid(np.arange(start = X_set[:, 0].min() - 0,  \n",
        "                               stop = X_set[:, 0].max() + 1, step = 0.01), \n",
        "                     np.arange(start = X_set[:, 1].min() - 0,  \n",
        "                               stop = X_set[:, 1].max() + 1, step = 0.01)) \n",
        "  \n",
        "plt.contourf(X1, X2, classifier.predict( \n",
        "             np.array([X1.ravel(), X2.ravel()]).T).reshape( \n",
        "             X1.shape), alpha = 0.75, cmap = ListedColormap(('red', 'green'))) \n",
        "  \n",
        "plt.xlim(X1.min(), X1.max()) \n",
        "plt.ylim(X2.min(), X2.max()) \n",
        "  \n",
        "for i, j in enumerate(np.unique(y_set)): \n",
        "    plt.scatter(X_set[y_set == j, 0], X_set[y_set == j, 1], \n",
        "                c = ListedColormap(('red', 'green'))(i), label = j) \n",
        "      \n",
        "plt.title('Classifier (Training set)') \n",
        "plt.xlabel('Age') \n",
        "plt.ylabel('Weight') \n",
        "plt.legend() \n",
        "plt.show() "
      ],
      "execution_count": null,
      "outputs": [
        {
          "output_type": "stream",
          "text": [
            "*c* argument looks like a single numeric RGB or RGBA sequence, which should be avoided as value-mapping will have precedence in case its length matches with *x* & *y*.  Please use the *color* keyword-argument or provide a 2-D array with a single row if you intend to specify the same RGB or RGBA value for all points.\n",
            "*c* argument looks like a single numeric RGB or RGBA sequence, which should be avoided as value-mapping will have precedence in case its length matches with *x* & *y*.  Please use the *color* keyword-argument or provide a 2-D array with a single row if you intend to specify the same RGB or RGBA value for all points.\n"
          ],
          "name": "stderr"
        },
        {
          "output_type": "display_data",
          "data": {
            "image/png": "[encoded data removed]",
            "text/plain": [
              "<Figure size 432x288 with 1 Axes>"
            ]
          },
          "metadata": {
            "tags": [],
            "needs_background": "light"
          }
        }
      ]
    },
    {
      "cell_type": "code",
      "metadata": {
        "id": "AbfVsvzyTtTC",
        "colab": {
          "base_uri": "https://localhost:8080/",
          "height": 349
        },
        "outputId": "bf219864-e425-4768-ca59-f51946f80d62"
      },
      "source": [
        "X_set, y_set = X_test, y_test \n",
        "X1, X2 = np.meshgrid(np.arange(start = X_set[:, 0].min() - 0,  \n",
        "                               stop = X_set[:, 0].max() + 1, step = 0.01), \n",
        "                     np.arange(start = X_set[:, 1].min() - 0,  \n",
        "                               stop = X_set[:, 1].max() + 1, step = 0.01)) \n",
        "  \n",
        "plt.contourf(X1, X2, classifier.predict( \n",
        "             np.array([X1.ravel(), X2.ravel()]).T).reshape( \n",
        "             X1.shape), alpha = 0.75, cmap = ListedColormap(('red', 'green'))) \n",
        "  \n",
        "plt.xlim(X1.min(), X1.max()) \n",
        "plt.ylim(X2.min(), X2.max()) \n",
        "  \n",
        "for i, j in enumerate(np.unique(y_set)): \n",
        "    plt.scatter(X_set[y_set == j, 0], X_set[y_set == j, 1], \n",
        "                c = ListedColormap(('red', 'green'))(i), label = j) \n",
        "      \n",
        "plt.title('Classifier (Test set)') \n",
        "plt.xlabel('Age') \n",
        "plt.ylabel('Weight') \n",
        "plt.legend() \n",
        "plt.show() "
      ],
      "execution_count": null,
      "outputs": [
        {
          "output_type": "stream",
          "text": [
            "*c* argument looks like a single numeric RGB or RGBA sequence, which should be avoided as value-mapping will have precedence in case its length matches with *x* & *y*.  Please use the *color* keyword-argument or provide a 2-D array with a single row if you intend to specify the same RGB or RGBA value for all points.\n",
            "*c* argument looks like a single numeric RGB or RGBA sequence, which should be avoided as value-mapping will have precedence in case its length matches with *x* & *y*.  Please use the *color* keyword-argument or provide a 2-D array with a single row if you intend to specify the same RGB or RGBA value for all points.\n"
          ],
          "name": "stderr"
        },
        {
          "output_type": "display_data",
          "data": {
            "image/png": "[encoded data removed]",
            "text/plain": [
              "<Figure size 432x288 with 1 Axes>"
            ]
          },
          "metadata": {
            "tags": [],
            "needs_background": "light"
          }
        }
      ]
    },
    {
      "cell_type": "code",
      "metadata": {
        "id": "t9Ngxhq8W9vl",
        "colab": {
          "base_uri": "https://localhost:8080/",
          "height": 85
        },
        "outputId": "d7d6adb8-3be8-4ad3-9e72-d996ef930c6b"
      },
      "source": [
        "from sklearn.svm import SVC\n",
        "classifier = SVC(kernel = 'rbf', random_state = 0)\n",
        "classifier.fit(X_train, y_train)"
      ],
      "execution_count": null,
      "outputs": [
        {
          "output_type": "execute_result",
          "data": {
            "text/plain": [
              "SVC(C=1.0, break_ties=False, cache_size=200, class_weight=None, coef0=0.0,\n",
              "    decision_function_shape='ovr', degree=3, gamma='scale', kernel='rbf',\n",
              "    max_iter=-1, probability=False, random_state=0, shrinking=True, tol=0.001,\n",
              "    verbose=False)"
            ]
          },
          "metadata": {
            "tags": []
          },
          "execution_count": 201
        }
      ]
    },
    {
      "cell_type": "code",
      "metadata": {
        "id": "WXte-KsQYAfA",
        "colab": {
          "base_uri": "https://localhost:8080/",
          "height": 34
        },
        "outputId": "28469893-c4ed-4025-ede6-5c39c690f223"
      },
      "source": [
        "print(classifier.predict(sc.transform([[20228,85.0]])))"
      ],
      "execution_count": null,
      "outputs": [
        {
          "output_type": "stream",
          "text": [
            "[1]\n"
          ],
          "name": "stdout"
        }
      ]
    },
    {
      "cell_type": "code",
      "metadata": {
        "id": "Vn1RmtXqYJ0i"
      },
      "source": [
        "y_pred = classifier.predict(X_test)"
      ],
      "execution_count": null,
      "outputs": []
    },
    {
      "cell_type": "code",
      "metadata": {
        "id": "_pcAqE93YNuD",
        "colab": {
          "base_uri": "https://localhost:8080/",
          "height": 68
        },
        "outputId": "ad40bded-d2e8-4138-adb0-9eba017ec8e5"
      },
      "source": [
        "cm = confusion_matrix(y_test, y_pred)\n",
        "print(cm)\n",
        "accuracy_score(y_test, y_pred)"
      ],
      "execution_count": null,
      "outputs": [
        {
          "output_type": "stream",
          "text": [
            "[[30 20]\n",
            " [14 36]]\n"
          ],
          "name": "stdout"
        },
        {
          "output_type": "execute_result",
          "data": {
            "text/plain": [
              "0.66"
            ]
          },
          "metadata": {
            "tags": []
          },
          "execution_count": 204
        }
      ]
    },
    {
      "cell_type": "code",
      "metadata": {
        "id": "FmRWQ7wzPp_L",
        "colab": {
          "base_uri": "https://localhost:8080/",
          "height": 349
        },
        "outputId": "f4e5727b-0f92-45a0-cdf2-92e6f585ccbf"
      },
      "source": [
        "X_set, y_set = X_train, y_train \n",
        "X1, X2 = np.meshgrid(np.arange(start = X_set[:, 0].min() - 0,  \n",
        "                               stop = X_set[:, 0].max() + 1, step = 0.01), \n",
        "                     np.arange(start = X_set[:, 1].min() - 0,  \n",
        "                               stop = X_set[:, 1].max() + 1, step = 0.01)) \n",
        "  \n",
        "plt.contourf(X1, X2, classifier.predict( \n",
        "             np.array([X1.ravel(), X2.ravel()]).T).reshape( \n",
        "             X1.shape), alpha = 0.75, cmap = ListedColormap(('red', 'green'))) \n",
        "  \n",
        "plt.xlim(X1.min(), X1.max()) \n",
        "plt.ylim(X2.min(), X2.max()) \n",
        "  \n",
        "for i, j in enumerate(np.unique(y_set)): \n",
        "    plt.scatter(X_set[y_set == j, 0], X_set[y_set == j, 1], \n",
        "                c = ListedColormap(('red', 'green'))(i), label = j) \n",
        "      \n",
        "plt.title('Classifier (Training set)') \n",
        "plt.xlabel('Age') \n",
        "plt.ylabel('Weight') \n",
        "plt.legend() \n",
        "plt.show() "
      ],
      "execution_count": null,
      "outputs": [
        {
          "output_type": "stream",
          "text": [
            "*c* argument looks like a single numeric RGB or RGBA sequence, which should be avoided as value-mapping will have precedence in case its length matches with *x* & *y*.  Please use the *color* keyword-argument or provide a 2-D array with a single row if you intend to specify the same RGB or RGBA value for all points.\n",
            "*c* argument looks like a single numeric RGB or RGBA sequence, which should be avoided as value-mapping will have precedence in case its length matches with *x* & *y*.  Please use the *color* keyword-argument or provide a 2-D array with a single row if you intend to specify the same RGB or RGBA value for all points.\n"
          ],
          "name": "stderr"
        },
        {
          "output_type": "display_data",
          "data": {
            "image/png": "[encoded data removed]",
            "text/plain": [
              "<Figure size 432x288 with 1 Axes>"
            ]
          },
          "metadata": {
            "tags": [],
            "needs_background": "light"
          }
        }
      ]
    },
    {
      "cell_type": "code",
      "metadata": {
        "id": "3aQmUjQ3QMoP",
        "colab": {
          "base_uri": "https://localhost:8080/",
          "height": 349
        },
        "outputId": "793ca5c4-a181-4ae3-c2c7-0026e9fa3aef"
      },
      "source": [
        "X_set, y_set = X_test, y_test \n",
        "X1, X2 = np.meshgrid(np.arange(start = X_set[:, 0].min() - 0,  \n",
        "                               stop = X_set[:, 0].max() + 1, step = 0.01), \n",
        "                     np.arange(start = X_set[:, 1].min() - 0,  \n",
        "                               stop = X_set[:, 1].max() + 1, step = 0.01)) \n",
        "  \n",
        "plt.contourf(X1, X2, classifier.predict( \n",
        "             np.array([X1.ravel(), X2.ravel()]).T).reshape( \n",
        "             X1.shape), alpha = 0.75, cmap = ListedColormap(('red', 'green'))) \n",
        "  \n",
        "plt.xlim(X1.min(), X1.max()) \n",
        "plt.ylim(X2.min(), X2.max()) \n",
        "  \n",
        "for i, j in enumerate(np.unique(y_set)): \n",
        "    plt.scatter(X_set[y_set == j, 0], X_set[y_set == j, 1], \n",
        "                c = ListedColormap(('red', 'green'))(i), label = j) \n",
        "      \n",
        "plt.title('Classifier (Test set)') \n",
        "plt.xlabel('Age') \n",
        "plt.ylabel('Weight') \n",
        "plt.legend() \n",
        "plt.show() "
      ],
      "execution_count": null,
      "outputs": [
        {
          "output_type": "stream",
          "text": [
            "*c* argument looks like a single numeric RGB or RGBA sequence, which should be avoided as value-mapping will have precedence in case its length matches with *x* & *y*.  Please use the *color* keyword-argument or provide a 2-D array with a single row if you intend to specify the same RGB or RGBA value for all points.\n",
            "*c* argument looks like a single numeric RGB or RGBA sequence, which should be avoided as value-mapping will have precedence in case its length matches with *x* & *y*.  Please use the *color* keyword-argument or provide a 2-D array with a single row if you intend to specify the same RGB or RGBA value for all points.\n"
          ],
          "name": "stderr"
        },
        {
          "output_type": "display_data",
          "data": {
            "image/png": "[encoded data removed]",
            "text/plain": [
              "<Figure size 432x288 with 1 Axes>"
            ]
          },
          "metadata": {
            "tags": [],
            "needs_background": "light"
          }
        }
      ]
    },
    {
      "cell_type": "markdown",
      "metadata": {
        "id": "TzWkT1fGeErx"
      },
      "source": [
        "# Logistic Regression using the SGD procedure. "
      ]
    },
    {
      "cell_type": "code",
      "metadata": {
        "id": "_VANnBr4eDPC",
        "colab": {
          "base_uri": "https://localhost:8080/",
          "height": 119
        },
        "outputId": "929dd0e1-6fcf-41f9-f48e-dc8846027988"
      },
      "source": [
        "from sklearn.linear_model import SGDClassifier\n",
        "classifier = SGDClassifier(loss=\"perceptron\", eta0=1, learning_rate=\"constant\", penalty=None)\n",
        "classifier.fit(X_train, y_train)"
      ],
      "execution_count": null,
      "outputs": [
        {
          "output_type": "execute_result",
          "data": {
            "text/plain": [
              "SGDClassifier(alpha=0.0001, average=False, class_weight=None,\n",
              "              early_stopping=False, epsilon=0.1, eta0=1, fit_intercept=True,\n",
              "              l1_ratio=0.15, learning_rate='constant', loss='perceptron',\n",
              "              max_iter=1000, n_iter_no_change=5, n_jobs=None, penalty=None,\n",
              "              power_t=0.5, random_state=None, shuffle=True, tol=0.001,\n",
              "              validation_fraction=0.1, verbose=0, warm_start=False)"
            ]
          },
          "metadata": {
            "tags": []
          },
          "execution_count": 207
        }
      ]
    },
    {
      "cell_type": "code",
      "metadata": {
        "id": "ia3Vt1q7i93O",
        "colab": {
          "base_uri": "https://localhost:8080/",
          "height": 34
        },
        "outputId": "206c440c-c836-4e02-b515-07ac5ad7f5db"
      },
      "source": [
        "print(classifier.predict(sc.transform([[20228,85.0]])))"
      ],
      "execution_count": null,
      "outputs": [
        {
          "output_type": "stream",
          "text": [
            "[1]\n"
          ],
          "name": "stdout"
        }
      ]
    },
    {
      "cell_type": "code",
      "metadata": {
        "id": "V1_dBmLAjFqe"
      },
      "source": [
        "y_pred = classifier.predict(X_test)"
      ],
      "execution_count": null,
      "outputs": []
    },
    {
      "cell_type": "code",
      "metadata": {
        "id": "NtFRWVmYjOCR",
        "colab": {
          "base_uri": "https://localhost:8080/",
          "height": 68
        },
        "outputId": "d48c3e71-9eb5-4718-c177-8d22382b1ac9"
      },
      "source": [
        "cm = confusion_matrix(y_test, y_pred)\n",
        "print(cm)\n",
        "accuracy_score(y_test, y_pred)"
      ],
      "execution_count": null,
      "outputs": [
        {
          "output_type": "stream",
          "text": [
            "[[14 36]\n",
            " [ 2 48]]\n"
          ],
          "name": "stdout"
        },
        {
          "output_type": "execute_result",
          "data": {
            "text/plain": [
              "0.62"
            ]
          },
          "metadata": {
            "tags": []
          },
          "execution_count": 210
        }
      ]
    },
    {
      "cell_type": "code",
      "metadata": {
        "id": "uHdPDBrEP56n",
        "colab": {
          "base_uri": "https://localhost:8080/",
          "height": 349
        },
        "outputId": "50cf3d71-a779-4120-9753-dba97181ca87"
      },
      "source": [
        "X_set, y_set = X_train, y_train \n",
        "X1, X2 = np.meshgrid(np.arange(start = X_set[:, 0].min() - 0,  \n",
        "                               stop = X_set[:, 0].max() + 1, step = 0.01), \n",
        "                     np.arange(start = X_set[:, 1].min() - 0,  \n",
        "                               stop = X_set[:, 1].max() + 1, step = 0.01)) \n",
        "  \n",
        "plt.contourf(X1, X2, classifier.predict( \n",
        "             np.array([X1.ravel(), X2.ravel()]).T).reshape( \n",
        "             X1.shape), alpha = 0.75, cmap = ListedColormap(('red', 'green'))) \n",
        "  \n",
        "plt.xlim(X1.min(), X1.max()) \n",
        "plt.ylim(X2.min(), X2.max()) \n",
        "  \n",
        "for i, j in enumerate(np.unique(y_set)): \n",
        "    plt.scatter(X_set[y_set == j, 0], X_set[y_set == j, 1], \n",
        "                c = ListedColormap(('red', 'green'))(i), label = j) \n",
        "      \n",
        "plt.title('Classifier (Training set)') \n",
        "plt.xlabel('Age') \n",
        "plt.ylabel('Weight') \n",
        "plt.legend() \n",
        "plt.show() "
      ],
      "execution_count": null,
      "outputs": [
        {
          "output_type": "stream",
          "text": [
            "*c* argument looks like a single numeric RGB or RGBA sequence, which should be avoided as value-mapping will have precedence in case its length matches with *x* & *y*.  Please use the *color* keyword-argument or provide a 2-D array with a single row if you intend to specify the same RGB or RGBA value for all points.\n",
            "*c* argument looks like a single numeric RGB or RGBA sequence, which should be avoided as value-mapping will have precedence in case its length matches with *x* & *y*.  Please use the *color* keyword-argument or provide a 2-D array with a single row if you intend to specify the same RGB or RGBA value for all points.\n"
          ],
          "name": "stderr"
        },
        {
          "output_type": "display_data",
          "data": {
            "image/png": "[encoded data removed]",
            "text/plain": [
              "<Figure size 432x288 with 1 Axes>"
            ]
          },
          "metadata": {
            "tags": [],
            "needs_background": "light"
          }
        }
      ]
    },
    {
      "cell_type": "code",
      "metadata": {
        "id": "fHaNh77FP-YP",
        "colab": {
          "base_uri": "https://localhost:8080/",
          "height": 349
        },
        "outputId": "b4b74a51-f876-45af-deeb-5652a10f89ab"
      },
      "source": [
        "X_set, y_set = X_test, y_test \n",
        "X1, X2 = np.meshgrid(np.arange(start = X_set[:, 0].min() - 0,  \n",
        "                               stop = X_set[:, 0].max() + 1, step = 0.01), \n",
        "                     np.arange(start = X_set[:, 1].min() - 0,  \n",
        "                               stop = X_set[:, 1].max() + 1, step = 0.01)) \n",
        "  \n",
        "plt.contourf(X1, X2, classifier.predict( \n",
        "             np.array([X1.ravel(), X2.ravel()]).T).reshape( \n",
        "             X1.shape), alpha = 0.75, cmap = ListedColormap(('red', 'green'))) \n",
        "  \n",
        "plt.xlim(X1.min(), X1.max()) \n",
        "plt.ylim(X2.min(), X2.max()) \n",
        "  \n",
        "for i, j in enumerate(np.unique(y_set)): \n",
        "    plt.scatter(X_set[y_set == j, 0], X_set[y_set == j, 1], \n",
        "                c = ListedColormap(('red', 'green'))(i), label = j) \n",
        "      \n",
        "plt.title('Classifier (Test set)') \n",
        "plt.xlabel('Age') \n",
        "plt.ylabel('Weight') \n",
        "plt.legend() \n",
        "plt.show() "
      ],
      "execution_count": null,
      "outputs": [
        {
          "output_type": "stream",
          "text": [
            "*c* argument looks like a single numeric RGB or RGBA sequence, which should be avoided as value-mapping will have precedence in case its length matches with *x* & *y*.  Please use the *color* keyword-argument or provide a 2-D array with a single row if you intend to specify the same RGB or RGBA value for all points.\n",
            "*c* argument looks like a single numeric RGB or RGBA sequence, which should be avoided as value-mapping will have precedence in case its length matches with *x* & *y*.  Please use the *color* keyword-argument or provide a 2-D array with a single row if you intend to specify the same RGB or RGBA value for all points.\n"
          ],
          "name": "stderr"
        },
        {
          "output_type": "display_data",
          "data": {
            "image/png": "[encoded data removed]",
            "text/plain": [
              "<Figure size 432x288 with 1 Axes>"
            ]
          },
          "metadata": {
            "tags": [],
            "needs_background": "light"
          }
        }
      ]
    }
  ]
}